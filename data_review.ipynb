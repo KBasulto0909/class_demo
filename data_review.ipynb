{
 "cells": [
  {
   "cell_type": "code",
   "execution_count": 1,
   "metadata": {},
   "outputs": [
    {
     "data": {
      "text/plain": [
       "{'word': 3, 'text': 1, 'string': 1}"
      ]
     },
     "execution_count": 1,
     "metadata": {},
     "output_type": "execute_result"
    }
   ],
   "source": [
    "def histogram(string_list):\n",
    "    test_list = {}\n",
    "    for word in string_list:\n",
    "        if word in test_list:\n",
    "            test_list[word] +=1   \n",
    "        else:\n",
    "            test_list[word] = 1  \n",
    "    return test_list \n",
    "\n",
    "histogram(['word', 'text', 'word', 'word', 'string']) \n",
    "#returns {'word':3, 'text':1, 'string':1}"
   ]
  },
  {
   "cell_type": "code",
   "execution_count": 2,
   "metadata": {},
   "outputs": [
    {
     "name": "stdout",
     "output_type": "stream",
     "text": [
      "True\n"
     ]
    },
    {
     "data": {
      "text/plain": [
       "False"
      ]
     },
     "execution_count": 2,
     "metadata": {},
     "output_type": "execute_result"
    }
   ],
   "source": [
    "def reverse_tuple(tuple_set1, tuple_set2):\n",
    "    tup1 = set()\n",
    "    for tuple in tuple_set1:\n",
    "        reverse = tuple[1], tuple[0]\n",
    "        tup1.add(reverse)\n",
    "    for tuple in tup1:\n",
    "        if tuple in tuple_set2:\n",
    "            return True\n",
    "    return False\n",
    "reverse_tuple({(1, 2), (3, 4)}, {(2, 1), (5, 6)})\n",
    "print(reverse_tuple({(1, 2), (3, 4)}, {(2, 1), (5, 6)}))\n",
    "reverse_tuple({(1, 2), (3, 4)}, {(1, 2), (2, 3)})"
   ]
  }
 ],
 "metadata": {
  "kernelspec": {
   "display_name": "Python 3",
   "language": "python",
   "name": "python3"
  },
  "language_info": {
   "codemirror_mode": {
    "name": "ipython",
    "version": 3
   },
   "file_extension": ".py",
   "mimetype": "text/x-python",
   "name": "python",
   "nbconvert_exporter": "python",
   "pygments_lexer": "ipython3",
   "version": "3.10.13"
  }
 },
 "nbformat": 4,
 "nbformat_minor": 2
}
